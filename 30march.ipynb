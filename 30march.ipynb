{
 "cells": [
  {
   "cell_type": "code",
   "execution_count": 1,
   "id": "c3f47e1f-5df5-44b1-93cc-7753772b2f43",
   "metadata": {},
   "outputs": [],
   "source": [
    "#1 Elastic Net Regression is a statistical technique that combines the penalties from both the lasso and ridge regression methods to improve the regularization of statistical models.012 It overcomes the limitations of the LASSO method, which uses a penalty function based on the least absolute shrinkage and selection operator.0 The elastic net method combines the L1 and L2 penalties of the lasso and ridge methods to deal with multicollinearity issues when they arise between predictor variables. Regularization aids in solving the overfitting issues with the models. The primary idea underlying the elastic net is regularization, which is considered in situations where the model is overfitting."
   ]
  },
  {
   "cell_type": "code",
   "execution_count": 2,
   "id": "d839534c-5d73-466a-99aa-021735274ff6",
   "metadata": {},
   "outputs": [
    {
     "data": {
      "text/plain": [
       "'you will discover how to develop Elastic Net regularized regression in Python.\\n\\nAfter completing this tutorial, you will know:\\n\\nElastic Net is an extension of linear regression that adds regularization penalties to the loss function during training.\\nHow to evaluate an Elastic Net model and use a final model to make predictions for new data.\\nHow to configure the Elastic Net model for a new dataset via grid search and automatically.'"
      ]
     },
     "execution_count": 2,
     "metadata": {},
     "output_type": "execute_result"
    }
   ],
   "source": [
    "#2  Elastic net is a popular type of regularized linear regression that combines two popular penalties, specifically the L1 and L2 penalty functions. \n",
    "'''you will discover how to develop Elastic Net regularized regression in Python.\n",
    "\n",
    "After completing this tutorial, you will know:\n",
    "\n",
    "Elastic Net is an extension of linear regression that adds regularization penalties to the loss function during training.\n",
    "How to evaluate an Elastic Net model and use a final model to make predictions for new data.\n",
    "How to configure the Elastic Net model for a new dataset via grid search and automatically.'''"
   ]
  },
  {
   "cell_type": "code",
   "execution_count": 3,
   "id": "9b4985d8-288b-4e9a-aa30-cf7b146518bc",
   "metadata": {},
   "outputs": [],
   "source": [
    "#3 advantage\n",
    "# Doesn’t have the problem of selecting more than n predictors when n<<p, whereas LASSO saturates when n<<p.\n",
    "# disadvantages\n",
    "#Computationally more expensive than LASSO or Ridge."
   ]
  },
  {
   "cell_type": "code",
   "execution_count": 4,
   "id": "aeabd290-caab-4945-9726-a403d971ba13",
   "metadata": {},
   "outputs": [],
   "source": [
    "#4 Elastic net is a combination of the two most popular regularized variants of linear regression: ridge and lasso. Ridge utilizes an L2 penalty and lasso uses an L1 penalty. With elastic net, you don't have to choose between these two models, because elastic net uses both the L2 and the L1 penalty! In practice, you will almost always want to use elastic net over ridge or lasso, and in this article you will learn everything you need to know to do so, successfully!"
   ]
  },
  {
   "cell_type": "code",
   "execution_count": 6,
   "id": "ac1145dc-a9bb-4f7c-b399-6573433573ed",
   "metadata": {},
   "outputs": [],
   "source": [
    "#5 When plotted on a Cartesian plane, the elastic net falls in between the ridge and lasso regression plots since it is the combination of those two regression methods. The plot for the elastic net also exhibits singularity at the vertices, which are important for sparsity. It also exhibits strict convex edges where the convexity depends on the value of α.Convexity is also dependent on the grouping effect dependent on the correlation of the variables selected. The higher the correlation of the variables, the higher the grouping effect, and, hence, the higher the number of variables included in the sample."
   ]
  },
  {
   "cell_type": "code",
   "execution_count": 7,
   "id": "39d84c35-39f5-4655-a8ba-1084ffffd5ec",
   "metadata": {},
   "outputs": [],
   "source": [
    "#6 During the regularization procedure, the l1 section of the penalty forms a sparse model. On the other hand, the quadratic section of the penalty makes the l1 part more stable in the path to regularization, eliminates the quantity limit of variables to be selected, and promotes the grouping effect.\n",
    "\n",
    "#The grouping effect helps the variables to be easily identified using correlation, enhancing the sampling procedure. It also increases the number of variables selected. When one variable is sampled in a highly correlated group, all the other variables in that group are automatically added to the sample."
   ]
  },
  {
   "cell_type": "code",
   "execution_count": 8,
   "id": "8193b313-33c9-4611-a301-9fdfd2e45330",
   "metadata": {},
   "outputs": [],
   "source": [
    "#7 Elastic Net Regression is a popular technique for feature selection and regularization in quantitative analytics. It combines the advantages of ridge and lasso regression, which penalize the coefficients of the linear model based on their magnitude and sparsity, respectively.1 Elastic Net Regression can perform feature selection by shrinking the coefficients of irrelevant variables to zero, resulting in a model with fewer variables, which is easier to interpret and less prone to overfitting. The L1 norm is used to perform feature selection, whereas the L2 norm is used to perform feature shrinkage. The Elastic Net Regression model can be represented as follows: L1 norm is used to perform feature selection, whereas the L2 norm is used to perform feature shrinkage.0 To use Elastic Net Regression for feature selection, one should run the model and look at the coefficients of each variable and arbitrarily select the top n features based on the absolute value of the coefficients. After the set of features is selected, the model should be run again with the selected set of features.2"
   ]
  },
  {
   "cell_type": "code",
   "execution_count": 9,
   "id": "2aa1882e-0956-426d-a9b7-cd88b14c349c",
   "metadata": {},
   "outputs": [],
   "source": [
    "#8 The pickle API for serializing standard Python objects.\n",
    "#The joblib API for efficiently serializing Python objects with NumPy arrays.\n"
   ]
  },
  {
   "cell_type": "code",
   "execution_count": null,
   "id": "78a0c252-1ca8-4378-9510-26d2fb9c1d6c",
   "metadata": {},
   "outputs": [],
   "source": [
    "#9"
   ]
  }
 ],
 "metadata": {
  "kernelspec": {
   "display_name": "Python 3 (ipykernel)",
   "language": "python",
   "name": "python3"
  },
  "language_info": {
   "codemirror_mode": {
    "name": "ipython",
    "version": 3
   },
   "file_extension": ".py",
   "mimetype": "text/x-python",
   "name": "python",
   "nbconvert_exporter": "python",
   "pygments_lexer": "ipython3",
   "version": "3.10.8"
  }
 },
 "nbformat": 4,
 "nbformat_minor": 5
}
